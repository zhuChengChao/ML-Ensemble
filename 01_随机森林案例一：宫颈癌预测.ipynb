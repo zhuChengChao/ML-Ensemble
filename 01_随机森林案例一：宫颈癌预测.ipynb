{
 "cells": [
  {
   "cell_type": "code",
   "execution_count": 2,
   "metadata": {},
   "outputs": [],
   "source": [
    "import numpy as np\n",
    "import pandas as pd\n",
    "import matplotlib.pyplot as plt\n",
    "import matplotlib as mpl\n",
    "\n",
    "from sklearn import tree\n",
    "from sklearn.ensemble import RandomForestClassifier\n",
    "from sklearn.model_selection import train_test_split\n",
    "from sklearn.pipeline import Pipeline\n",
    "from sklearn.model_selection import GridSearchCV\n",
    "from sklearn.preprocessing import MinMaxScaler\n",
    "from sklearn.decomposition import PCA\n",
    "from sklearn.preprocessing import Imputer\n",
    "from sklearn.preprocessing import label_binarize\n",
    "from sklearn import metrics"
   ]
  },
  {
   "cell_type": "code",
   "execution_count": 3,
   "metadata": {},
   "outputs": [],
   "source": [
    "mpl.rcParams['font.sans-serif'] = [u'SimHei']\n",
    "mpl.rcParams['axes.unicode_minus'] = False"
   ]
  },
  {
   "cell_type": "code",
   "execution_count": 4,
   "metadata": {},
   "outputs": [],
   "source": [
    "# 数据的格式：特征\n",
    "names = [u'Age', u'Number of sexual partners', u'First sexual intercourse',\n",
    "       u'Num of pregnancies', u'Smokes', u'Smokes (years)',\n",
    "       u'Smokes (packs/year)', u'Hormonal Contraceptives',\n",
    "       u'Hormonal Contraceptives (years)', u'IUD', u'IUD (years)', u'STDs',\n",
    "       u'STDs (number)', u'STDs:condylomatosis',\n",
    "       u'STDs:cervical condylomatosis', u'STDs:vaginal condylomatosis',\n",
    "       u'STDs:vulvo-perineal condylomatosis', u'STDs:syphilis',\n",
    "       u'STDs:pelvic inflammatory disease', u'STDs:genital herpes',\n",
    "       u'STDs:molluscum contagiosum', u'STDs:AIDS', u'STDs:HIV',\n",
    "       u'STDs:Hepatitis B', u'STDs:HPV', u'STDs: Number of diagnosis',\n",
    "       u'STDs: Time since first diagnosis', u'STDs: Time since last diagnosis',\n",
    "       u'Dx:Cancer', u'Dx:CIN', u'Dx:HPV', u'Dx', u'Hinselmann', u'Schiller',\n",
    "       u'Citology', u'Biopsy']\n",
    "path = \"datas/risk_factors_cervical_cancer.csv\"  # 数据文件路径\n",
    "data = pd.read_csv(path)"
   ]
  },
  {
   "cell_type": "code",
   "execution_count": 5,
   "metadata": {},
   "outputs": [
    {
     "data": {
      "text/html": [
       "<div>\n",
       "<style scoped>\n",
       "    .dataframe tbody tr th:only-of-type {\n",
       "        vertical-align: middle;\n",
       "    }\n",
       "\n",
       "    .dataframe tbody tr th {\n",
       "        vertical-align: top;\n",
       "    }\n",
       "\n",
       "    .dataframe thead th {\n",
       "        text-align: right;\n",
       "    }\n",
       "</style>\n",
       "<table border=\"1\" class=\"dataframe\">\n",
       "  <thead>\n",
       "    <tr style=\"text-align: right;\">\n",
       "      <th></th>\n",
       "      <th>Age</th>\n",
       "      <th>Number of sexual partners</th>\n",
       "      <th>First sexual intercourse</th>\n",
       "      <th>Num of pregnancies</th>\n",
       "      <th>Smokes</th>\n",
       "      <th>Smokes (years)</th>\n",
       "      <th>Smokes (packs/year)</th>\n",
       "      <th>Hormonal Contraceptives</th>\n",
       "      <th>Hormonal Contraceptives (years)</th>\n",
       "      <th>IUD</th>\n",
       "      <th>...</th>\n",
       "      <th>STDs:HIV</th>\n",
       "      <th>STDs:Hepatitis B</th>\n",
       "      <th>STDs:HPV</th>\n",
       "      <th>STDs: Number of diagnosis</th>\n",
       "      <th>STDs: Time since first diagnosis</th>\n",
       "      <th>STDs: Time since last diagnosis</th>\n",
       "      <th>Dx:Cancer</th>\n",
       "      <th>Dx:CIN</th>\n",
       "      <th>Dx:HPV</th>\n",
       "      <th>Dx</th>\n",
       "    </tr>\n",
       "  </thead>\n",
       "  <tbody>\n",
       "    <tr>\n",
       "      <th>0</th>\n",
       "      <td>18</td>\n",
       "      <td>4.0</td>\n",
       "      <td>15.0</td>\n",
       "      <td>1.0</td>\n",
       "      <td>0.0</td>\n",
       "      <td>0.0</td>\n",
       "      <td>0.0</td>\n",
       "      <td>0.0</td>\n",
       "      <td>0.0</td>\n",
       "      <td>0.0</td>\n",
       "      <td>...</td>\n",
       "      <td>0.0</td>\n",
       "      <td>0.0</td>\n",
       "      <td>0.0</td>\n",
       "      <td>0</td>\n",
       "      <td>?</td>\n",
       "      <td>?</td>\n",
       "      <td>0</td>\n",
       "      <td>0</td>\n",
       "      <td>0</td>\n",
       "      <td>0</td>\n",
       "    </tr>\n",
       "  </tbody>\n",
       "</table>\n",
       "<p>1 rows × 32 columns</p>\n",
       "</div>"
      ],
      "text/plain": [
       "   Age Number of sexual partners First sexual intercourse Num of pregnancies  \\\n",
       "0   18                       4.0                     15.0                1.0   \n",
       "\n",
       "  Smokes Smokes (years) Smokes (packs/year) Hormonal Contraceptives  \\\n",
       "0    0.0            0.0                 0.0                     0.0   \n",
       "\n",
       "  Hormonal Contraceptives (years)  IUD  ... STDs:HIV STDs:Hepatitis B  \\\n",
       "0                             0.0  0.0  ...      0.0              0.0   \n",
       "\n",
       "  STDs:HPV STDs: Number of diagnosis STDs: Time since first diagnosis  \\\n",
       "0      0.0                         0                                ?   \n",
       "\n",
       "  STDs: Time since last diagnosis Dx:Cancer Dx:CIN Dx:HPV Dx  \n",
       "0                               ?         0      0      0  0  \n",
       "\n",
       "[1 rows x 32 columns]"
      ]
     },
     "execution_count": 5,
     "metadata": {},
     "output_type": "execute_result"
    }
   ],
   "source": [
    "## 模型存在多个需要预测的y值，如果是这种情况下，\n",
    "## 简单来讲可以直接模型构建，在模型内部会单独的处理每个需要预测的y值，\n",
    "## 相当于对每个y创建一个模型\n",
    "X = data[names[0:-4]]  \n",
    "Y = data[names[-4:]]  # 后四列为目标值\n",
    "X.head(1)#随机森林可以处理多个目标变量的情况"
   ]
  },
  {
   "cell_type": "code",
   "execution_count": 6,
   "metadata": {},
   "outputs": [
    {
     "data": {
      "text/html": [
       "<div>\n",
       "<style scoped>\n",
       "    .dataframe tbody tr th:only-of-type {\n",
       "        vertical-align: middle;\n",
       "    }\n",
       "\n",
       "    .dataframe tbody tr th {\n",
       "        vertical-align: top;\n",
       "    }\n",
       "\n",
       "    .dataframe thead th {\n",
       "        text-align: right;\n",
       "    }\n",
       "</style>\n",
       "<table border=\"1\" class=\"dataframe\">\n",
       "  <thead>\n",
       "    <tr style=\"text-align: right;\">\n",
       "      <th></th>\n",
       "      <th>Age</th>\n",
       "      <th>Number of sexual partners</th>\n",
       "      <th>First sexual intercourse</th>\n",
       "      <th>Num of pregnancies</th>\n",
       "      <th>Smokes</th>\n",
       "      <th>Smokes (years)</th>\n",
       "      <th>Smokes (packs/year)</th>\n",
       "      <th>Hormonal Contraceptives</th>\n",
       "      <th>Hormonal Contraceptives (years)</th>\n",
       "      <th>IUD</th>\n",
       "      <th>...</th>\n",
       "      <th>STDs:HIV</th>\n",
       "      <th>STDs:Hepatitis B</th>\n",
       "      <th>STDs:HPV</th>\n",
       "      <th>STDs: Number of diagnosis</th>\n",
       "      <th>STDs: Time since first diagnosis</th>\n",
       "      <th>STDs: Time since last diagnosis</th>\n",
       "      <th>Dx:Cancer</th>\n",
       "      <th>Dx:CIN</th>\n",
       "      <th>Dx:HPV</th>\n",
       "      <th>Dx</th>\n",
       "    </tr>\n",
       "  </thead>\n",
       "  <tbody>\n",
       "    <tr>\n",
       "      <th>0</th>\n",
       "      <td>18</td>\n",
       "      <td>4.0</td>\n",
       "      <td>15.0</td>\n",
       "      <td>1.0</td>\n",
       "      <td>0.0</td>\n",
       "      <td>0.0</td>\n",
       "      <td>0.0</td>\n",
       "      <td>0.0</td>\n",
       "      <td>0.0</td>\n",
       "      <td>0.0</td>\n",
       "      <td>...</td>\n",
       "      <td>0.0</td>\n",
       "      <td>0.0</td>\n",
       "      <td>0.0</td>\n",
       "      <td>0</td>\n",
       "      <td>NaN</td>\n",
       "      <td>NaN</td>\n",
       "      <td>0</td>\n",
       "      <td>0</td>\n",
       "      <td>0</td>\n",
       "      <td>0</td>\n",
       "    </tr>\n",
       "  </tbody>\n",
       "</table>\n",
       "<p>1 rows × 32 columns</p>\n",
       "</div>"
      ],
      "text/plain": [
       "   Age Number of sexual partners First sexual intercourse Num of pregnancies  \\\n",
       "0   18                       4.0                     15.0                1.0   \n",
       "\n",
       "  Smokes Smokes (years) Smokes (packs/year) Hormonal Contraceptives  \\\n",
       "0    0.0            0.0                 0.0                     0.0   \n",
       "\n",
       "  Hormonal Contraceptives (years)  IUD  ... STDs:HIV STDs:Hepatitis B  \\\n",
       "0                             0.0  0.0  ...      0.0              0.0   \n",
       "\n",
       "  STDs:HPV STDs: Number of diagnosis STDs: Time since first diagnosis  \\\n",
       "0      0.0                         0                              NaN   \n",
       "\n",
       "  STDs: Time since last diagnosis Dx:Cancer Dx:CIN Dx:HPV Dx  \n",
       "0                             NaN         0      0      0  0  \n",
       "\n",
       "[1 rows x 32 columns]"
      ]
     },
     "execution_count": 6,
     "metadata": {},
     "output_type": "execute_result"
    }
   ],
   "source": [
    "#空值的处理  用np.NAN的值进行填充\n",
    "X = X.replace(\"?\", np.NAN)\n",
    "X.head(1)"
   ]
  },
  {
   "cell_type": "code",
   "execution_count": 15,
   "metadata": {},
   "outputs": [
    {
     "data": {
      "text/html": [
       "<div>\n",
       "<style scoped>\n",
       "    .dataframe tbody tr th:only-of-type {\n",
       "        vertical-align: middle;\n",
       "    }\n",
       "\n",
       "    .dataframe tbody tr th {\n",
       "        vertical-align: top;\n",
       "    }\n",
       "\n",
       "    .dataframe thead th {\n",
       "        text-align: right;\n",
       "    }\n",
       "</style>\n",
       "<table border=\"1\" class=\"dataframe\">\n",
       "  <thead>\n",
       "    <tr style=\"text-align: right;\">\n",
       "      <th></th>\n",
       "      <th>Hinselmann</th>\n",
       "      <th>Schiller</th>\n",
       "      <th>Citology</th>\n",
       "      <th>Biopsy</th>\n",
       "    </tr>\n",
       "  </thead>\n",
       "  <tbody>\n",
       "    <tr>\n",
       "      <th>0</th>\n",
       "      <td>0</td>\n",
       "      <td>0</td>\n",
       "      <td>0</td>\n",
       "      <td>0</td>\n",
       "    </tr>\n",
       "  </tbody>\n",
       "</table>\n",
       "</div>"
      ],
      "text/plain": [
       "   Hinselmann  Schiller  Citology  Biopsy\n",
       "0           0         0         0       0"
      ]
     },
     "execution_count": 15,
     "metadata": {},
     "output_type": "execute_result"
    }
   ],
   "source": [
    "Y.head(1)"
   ]
  },
  {
   "cell_type": "code",
   "execution_count": 8,
   "metadata": {
    "scrolled": true
   },
   "outputs": [
    {
     "data": {
      "text/plain": [
       "array([[18.        ,  4.        , 15.        ,  1.        ,  0.        ,\n",
       "         0.        ,  0.        ,  0.        ,  0.        ,  0.        ,\n",
       "         0.        ,  0.        ,  0.        ,  0.        ,  0.        ,\n",
       "         0.        ,  0.        ,  0.        ,  0.        ,  0.        ,\n",
       "         0.        ,  0.        ,  0.        ,  0.        ,  0.        ,\n",
       "         0.        ,  6.14084507,  5.81690141,  0.        ,  0.        ,\n",
       "         0.        ,  0.        ]])"
      ]
     },
     "execution_count": 8,
     "metadata": {},
     "output_type": "execute_result"
    }
   ],
   "source": [
    "# 使用Imputer给定缺省值，默认的是以mean\n",
    "# 对于缺省值，进行数据填充；默认是以列/特征的均值填充\n",
    "imputer = Imputer(missing_values=\"NaN\")\n",
    "X = imputer.fit_transform(X, Y)\n",
    "X[:1]"
   ]
  },
  {
   "cell_type": "code",
   "execution_count": 9,
   "metadata": {},
   "outputs": [
    {
     "data": {
      "text/plain": [
       "(858, 32)"
      ]
     },
     "execution_count": 9,
     "metadata": {},
     "output_type": "execute_result"
    }
   ],
   "source": [
    "X.shape"
   ]
  },
  {
   "cell_type": "code",
   "execution_count": 10,
   "metadata": {},
   "outputs": [
    {
     "name": "stdout",
     "output_type": "stream",
     "text": [
      "训练样本数量:686,特征属性数目:32,目标属性数目:4\n",
      "测试样本数量:172\n"
     ]
    }
   ],
   "source": [
    "# 数据分割 X.shape = (858, 32)\n",
    "x_train, x_test, y_train, y_test = train_test_split(X, Y, test_size=0.2, random_state=0)\n",
    "print (\"训练样本数量:%d,特征属性数目:%d,目标属性数目:%d\" % (x_train.shape[0],x_train.shape[1],y_train.shape[1]))\n",
    "print (\"测试样本数量:%d\" % x_test.shape[0])"
   ]
  },
  {
   "cell_type": "code",
   "execution_count": 11,
   "metadata": {},
   "outputs": [
    {
     "name": "stdout",
     "output_type": "stream",
     "text": [
      "x_trian's shape:\n",
      " (686, 32)\n"
     ]
    }
   ],
   "source": [
    "#标准化\n",
    "ss = MinMaxScaler()  # 分类模型，经常使用的是minmaxscaler归一化，回归模型经常用standardscaler\n",
    "x_train = ss.fit_transform(x_train, y_train)\n",
    "x_test = ss.transform(x_test)\n",
    "print(\"x_trian's shape:\\n\", x_train.shape)"
   ]
  },
  {
   "cell_type": "code",
   "execution_count": 12,
   "metadata": {},
   "outputs": [
    {
     "name": "stdout",
     "output_type": "stream",
     "text": [
      "x_train shape: (686, 2)\n",
      "[0.24021831 0.2067443 ]\n"
     ]
    }
   ],
   "source": [
    "#  降维 降成2维的特征，便于后续的画图观察\n",
    "pca = PCA(n_components=2)\n",
    "x_train = pca.fit_transform(x_train)\n",
    "x_test = pca.transform(x_test)\n",
    "print('x_train shape:', x_train.shape)\n",
    "print(pca.explained_variance_ratio_)"
   ]
  },
  {
   "cell_type": "code",
   "execution_count": 13,
   "metadata": {},
   "outputs": [
    {
     "data": {
      "text/plain": [
       "RandomForestClassifier(bootstrap=True, class_weight=None, criterion='gini',\n",
       "            max_depth=1, max_features='auto', max_leaf_nodes=None,\n",
       "            min_impurity_decrease=0.0, min_impurity_split=None,\n",
       "            min_samples_leaf=1, min_samples_split=2,\n",
       "            min_weight_fraction_leaf=0.0, n_estimators=100, n_jobs=1,\n",
       "            oob_score=False, random_state=0, verbose=0, warm_start=False)"
      ]
     },
     "execution_count": 13,
     "metadata": {},
     "output_type": "execute_result"
    }
   ],
   "source": [
    "# 随机森林模型\n",
    "### n_estimators：迭代次数，每次迭代为Y产生一个模型\n",
    "forest = RandomForestClassifier(n_estimators=100, criterion='gini', max_depth=1, random_state=0)\n",
    "forest.fit(x_train, y_train)  # max_depth一般不宜设置过大，把每个模型作为一个弱分类器"
   ]
  },
  {
   "cell_type": "code",
   "execution_count": 14,
   "metadata": {},
   "outputs": [
    {
     "name": "stdout",
     "output_type": "stream",
     "text": [
      "准确率:89.53%\n"
     ]
    }
   ],
   "source": [
    "# 模型效果评估\n",
    "score = forest.score(x_test, y_test)\n",
    "print (\"准确率:%.2f%%\" % (score * 100))"
   ]
  },
  {
   "cell_type": "code",
   "execution_count": 16,
   "metadata": {},
   "outputs": [
    {
     "name": "stdout",
     "output_type": "stream",
     "text": [
      "y_test shape: (172, 4)\n",
      "y_test[names[-4]] shape: (172,)\n",
      "y_test[names[-4]] one_hot: \n",
      " [[1 0 0]\n",
      " [1 0 0]\n",
      " [1 0 0]\n",
      " [1 0 0]\n",
      " [1 0 0]]\n",
      "Transposition, take two column： \n",
      " [[1 1 1 1 1 1 1 1 1 1 1 1 1 1 1 1 1 1 1 1 1 1 1 1 1 1 1 1 1 1 1 1 0 1 1 1\n",
      "  1 1 1 1 1 1 1 1 1 1 1 1 1 1 1 1 1 1 1 1 1 1 1 1 1 1 1 1 1 1 1 1 1 1 1 1\n",
      "  1 1 1 1 1 0 1 1 1 1 1 1 1 1 1 1 1 1 1 1 1 1 1 1 1 1 1 1 1 1 1 1 1 1 1 1\n",
      "  1 1 1 1 1 1 1 1 1 1 1 1 1 1 1 1 1 1 1 1 1 1 1 1 1 1 1 1 1 1 1 1 1 1 1 1\n",
      "  1 1 1 1 1 1 1 1 1 1 1 1 1 1 1 1 1 1 1 1 1 1 1 1 1 1 1 1]\n",
      " [0 0 0 0 0 0 0 0 0 0 0 0 0 0 0 0 0 0 0 0 0 0 0 0 0 0 0 0 0 0 0 0 1 0 0 0\n",
      "  0 0 0 0 0 0 0 0 0 0 0 0 0 0 0 0 0 0 0 0 0 0 0 0 0 0 0 0 0 0 0 0 0 0 0 0\n",
      "  0 0 0 0 0 1 0 0 0 0 0 0 0 0 0 0 0 0 0 0 0 0 0 0 0 0 0 0 0 0 0 0 0 0 0 0\n",
      "  0 0 0 0 0 0 0 0 0 0 0 0 0 0 0 0 0 0 0 0 0 0 0 0 0 0 0 0 0 0 0 0 0 0 0 0\n",
      "  0 0 0 0 0 0 0 0 0 0 0 0 0 0 0 0 0 0 0 0 0 0 0 0 0 0 0 0]]\n",
      "Transposition + ravel： \n",
      " [1 0 1 0 1 0 1 0 1 0 1 0 1 0 1 0 1 0 1 0 1 0 1 0 1 0 1 0 1 0 1 0 1 0 1 0 1\n",
      " 0 1 0 1 0 1 0 1 0 1 0 1 0 1 0 1 0 1 0 1 0 1 0 1 0 1 0 0 1 1 0 1 0 1 0 1 0\n",
      " 1 0 1 0 1 0 1 0 1 0 1 0 1 0 1 0 1 0 1 0 1 0 1 0 1 0 1 0 1 0 1 0 1 0 1 0 1\n",
      " 0 1 0 1 0 1 0 1 0 1 0 1 0 1 0 1 0 1 0 1 0 1 0 1 0 1 0 1 0 1 0 1 0 1 0 1 0\n",
      " 1 0 1 0 1 0 0 1 1 0 1 0 1 0 1 0 1 0 1 0 1 0 1 0 1 0 1 0 1 0 1 0 1 0 1 0 1\n",
      " 0 1 0 1 0 1 0 1 0 1 0 1 0 1 0 1 0 1 0 1 0 1 0 1 0 1 0 1 0 1 0 1 0 1 0 1 0\n",
      " 1 0 1 0 1 0 1 0 1 0 1 0 1 0 1 0 1 0 1 0 1 0 1 0 1 0 1 0 1 0 1 0 1 0 1 0 1\n",
      " 0 1 0 1 0 1 0 1 0 1 0 1 0 1 0 1 0 1 0 1 0 1 0 1 0 1 0 1 0 1 0 1 0 1 0 1 0\n",
      " 1 0 1 0 1 0 1 0 1 0 1 0 1 0 1 0 1 0 1 0 1 0 1 0 1 0 1 0 1 0 1 0 1 0 1 0 1\n",
      " 0 1 0 1 0 1 0 1 0 1 0]\n"
     ]
    }
   ],
   "source": [
    "# y_test为测试集 shape：（172， 4）\n",
    "print('y_test shape:', y_test.shape)\n",
    "# y_test[names[-4]]  -> Hinselmann ->shape：（172,| 1）\n",
    "print('y_test[names[-4]] shape:', y_test[names[-4]].shape)\n",
    "# one_hot\n",
    "y_test_0_one_hot = label_binarize(y_test[names[-4]],classes=(0,1,2))\n",
    "print('y_test[names[-4]] one_hot:', '\\n', y_test_0_one_hot[0:5])\n",
    "# 转置取前两列，第三列舍弃(第三列是在上方亚编码时为了生成相应的数组)\n",
    "print('Transposition, take two column：', '\\n', y_test_0_one_hot.T[0: -1])\n",
    "# 再转置后进行扁平化\n",
    "print('Transposition + ravel：', '\\n', y_test_0_one_hot.T[0: -1].T.ravel())"
   ]
  },
  {
   "cell_type": "code",
   "execution_count": 17,
   "metadata": {},
   "outputs": [
    {
     "name": "stdout",
     "output_type": "stream",
     "text": [
      "Hinselmann目标属性AUC值： 0.9901974040021634\n",
      "Schiller目标属性AUC值： 0.9559221200648998\n",
      "Citology目标属性AUC值： 0.9637979989183343\n",
      "Biopsy目标属性AUC值： 0.9568685776095187\n"
     ]
    }
   ],
   "source": [
    "# 模型预测 -> prodict_proba 输出概率\n",
    "forest_y_score = forest.predict_proba(x_test)  \n",
    "# 计算ROC值 对于y的每一个标签，转换参考上方代码块\n",
    "forest_fpr1, forest_tpr1, _ = metrics.roc_curve(label_binarize(y_test[names[-4]],classes=(0,1,2)).T[0:-1].T.ravel(), forest_y_score[0].ravel())\n",
    "forest_fpr2, forest_tpr2, _ = metrics.roc_curve(label_binarize(y_test[names[-3]],classes=(0,1,2)).T[0:-1].T.ravel(), forest_y_score[1].ravel())\n",
    "forest_fpr3, forest_tpr3, _ = metrics.roc_curve(label_binarize(y_test[names[-2]],classes=(0,1,2)).T[0:-1].T.ravel(), forest_y_score[2].ravel())\n",
    "forest_fpr4, forest_tpr4, _ = metrics.roc_curve(label_binarize(y_test[names[-1]],classes=(0,1,2)).T[0:-1].T.ravel(), forest_y_score[3].ravel())\n",
    "# AUC值\n",
    "auc1 = metrics.auc(forest_fpr1, forest_tpr1)\n",
    "auc2 = metrics.auc(forest_fpr2, forest_tpr2)\n",
    "auc3 = metrics.auc(forest_fpr3, forest_tpr3)\n",
    "auc4 = metrics.auc(forest_fpr4, forest_tpr4)\n",
    "\n",
    "print (\"Hinselmann目标属性AUC值：\", auc1)\n",
    "print (\"Schiller目标属性AUC值：\", auc2)\n",
    "print (\"Citology目标属性AUC值：\", auc3)\n",
    "print (\"Biopsy目标属性AUC值：\", auc4)"
   ]
  },
  {
   "cell_type": "code",
   "execution_count": 18,
   "metadata": {
    "scrolled": true
   },
   "outputs": [
    {
     "name": "stdout",
     "output_type": "stream",
     "text": [
      "y的预测值,倒数第四列\n",
      "[0.95877997 0.04122003 0.94747819 0.05252181 0.94734968 0.05265032]\n",
      "y的实际值：倒数第四列\n",
      "[1 0 1 0 1 0]\n"
     ]
    }
   ],
   "source": [
    "print('y的预测值,倒数第四列')\n",
    "print(forest_y_score[0].ravel()[:6])\n",
    "print('y的实际值：倒数第四列')\n",
    "print(label_binarize(y_test[names[-4]],classes=(0,1,2)).T[0:-1].T.ravel()[:6])"
   ]
  },
  {
   "cell_type": "code",
   "execution_count": 19,
   "metadata": {},
   "outputs": [
    {
     "data": {
      "text/plain": [
       "array([[1, 0, 0],\n",
       "       [1, 0, 0],\n",
       "       [0, 1, 0],\n",
       "       [0, 1, 0]])"
      ]
     },
     "execution_count": 19,
     "metadata": {},
     "output_type": "execute_result"
    }
   ],
   "source": [
    "# 补充内容：\n",
    "# label_binarize使用示例\n",
    "## 1.\n",
    "label_binarize(['a','a','b','b'],classes=('a','b','c'))"
   ]
  },
  {
   "cell_type": "code",
   "execution_count": 20,
   "metadata": {},
   "outputs": [
    {
     "data": {
      "text/plain": [
       "array([1, 0, 1, 0, 0, 1, 0, 1])"
      ]
     },
     "execution_count": 20,
     "metadata": {},
     "output_type": "execute_result"
    }
   ],
   "source": [
    "# label_binarize使用示例\n",
    "## 2.\n",
    "label_binarize(['a','a','b','b'],classes=('a','b','c')).T[:-1].T.ravel()"
   ]
  },
  {
   "cell_type": "code",
   "execution_count": 22,
   "metadata": {},
   "outputs": [
    {
     "name": "stdout",
     "output_type": "stream",
     "text": [
      "y_true:\n",
      " [1 0 1 0 1 0 1 0 1 0 1 0 1 0 1 0 1 0 1 0 1 0 1 0 1 0 1 0 1 0 1 0 1 0 1 0 1\n",
      " 0 1 0 1 0 1 0 1 0 1 0 1 0 1 0 1 0 1 0 1 0 1 0 1 0 1 0 0 1 1 0 1 0 1 0 1 0\n",
      " 1 0 1 0 1 0 1 0 1 0 1 0 1 0 1 0 1 0 1 0 1 0 1 0 1 0 1 0 1 0 1 0 1 0 1 0 1\n",
      " 0 1 0 1 0 1 0 1 0 1 0 1 0 1 0 1 0 1 0 1 0 1 0 1 0 1 0 1 0 1 0 1 0 1 0 1 0\n",
      " 1 0 1 0 1 0 0 1 1 0 1 0 1 0 1 0 1 0 1 0 1 0 1 0 1 0 1 0 1 0 1 0 1 0 1 0 1\n",
      " 0 1 0 1 0 1 0 1 0 1 0 1 0 1 0 1 0 1 0 1 0 1 0 1 0 1 0 1 0 1 0 1 0 1 0 1 0\n",
      " 1 0 1 0 1 0 1 0 1 0 1 0 1 0 1 0 1 0 1 0 1 0 1 0 1 0 1 0 1 0 1 0 1 0 1 0 1\n",
      " 0 1 0 1 0 1 0 1 0 1 0 1 0 1 0 1 0 1 0 1 0 1 0 1 0 1 0 1 0 1 0 1 0 1 0 1 0\n",
      " 1 0 1 0 1 0 1 0 1 0 1 0 1 0 1 0 1 0 1 0 1 0 1 0 1 0 1 0 1 0 1 0 1 0 1 0 1\n",
      " 0 1 0 1 0 1 0 1 0 1 0]\n",
      "y_predict:\n",
      " [1 0 1 0 1 0 1 0 1 0 1 0 1 0 1 0 1 0 1 0 1 0 1 0 1 0 1 0 1 0 1 0 1 0 1 0 1\n",
      " 0 1 0 1 0 1 0 1 0 1 0 1 0 1 0 1 0 1 0 1 0 1 0 1 0 1 0 0 1 1 0 1 0 1 0 1 0\n",
      " 1 0 1 0 1 0 1 0 1 0 1 0 1 0 1 0 1 0 1 0 1 0 1 0 1 0 1 0 1 0 1 0 1 0 1 0 1\n",
      " 0 1 0 1 0 1 0 1 0 1 0 1 0 1 0 1 0 1 0 1 0 1 0 1 0 1 0 1 0 1 0 1 0 1 0 1 0\n",
      " 1 0 1 0 1 0 0 1 1 0 1 0 1 0 1 0 1 0 1 0 1 0 1 0 1 0 1 0 1 0 1 0 1 0 1 0 1\n",
      " 0 1 0 1 0 1 0 1 0 1 0 1 0 1 0 1 0 1 0 1 0 1 0 1 0 1 0 1 0 1 0 1 0 1 0 1 0\n",
      " 1 0 1 0 1 0 1 0 1 0 1 0 1 0 1 0 1 0 1 0 1 0 1 0 1 0 1 0 1 0 1 0 1 0 1 0 1\n",
      " 0 1 0 1 0 1 0 1 0 1 0 1 0 1 0 1 0 1 0 1 0 1 0 1 0 1 0 1 0 1 0 1 0 1 0 1 0\n",
      " 1 0 1 0 1 0 1 0 1 0 1 0 1 0 1 0 1 0 1 0 1 0 1 0 1 0 1 0 1 0 1 0 1 0 1 0 1\n",
      " 0 1 0 1 0 1 0 1 0 1 0]\n"
     ]
    },
    {
     "data": {
      "text/plain": [
       "(array([0.        , 0.        , 0.        , 0.00581395, 0.00581395,\n",
       "        0.00581395, 0.00581395, 0.00581395, 0.00581395, 0.00581395,\n",
       "        0.00581395, 0.01162791, 0.01162791, 0.01162791, 0.01162791,\n",
       "        0.01162791, 0.01162791, 0.01162791, 0.01744186, 0.03488372,\n",
       "        0.04651163, 0.0755814 , 0.11046512, 0.14534884, 0.25      ,\n",
       "        0.25581395, 0.26744186, 0.29069767, 0.46511628, 0.47093023,\n",
       "        0.49418605, 0.59302326, 0.72093023, 0.76162791, 0.90697674,\n",
       "        1.        ]),\n",
       " array([0.09302326, 0.23837209, 0.27906977, 0.40697674, 0.50581395,\n",
       "        0.52906977, 0.53488372, 0.70930233, 0.73255814, 0.74418605,\n",
       "        0.75      , 0.85465116, 0.88953488, 0.9244186 , 0.95348837,\n",
       "        0.96511628, 0.98255814, 0.98837209, 0.98837209, 0.98837209,\n",
       "        0.98837209, 0.98837209, 0.98837209, 0.98837209, 0.99418605,\n",
       "        0.99418605, 0.99418605, 0.99418605, 0.99418605, 0.99418605,\n",
       "        0.99418605, 0.99418605, 1.        , 1.        , 1.        ,\n",
       "        1.        ]),\n",
       " array([0.96018516, 0.95978206, 0.95913181, 0.95877997, 0.95824078,\n",
       "        0.95816479, 0.95762665, 0.9576256 , 0.9562422 , 0.95518281,\n",
       "        0.95245107, 0.94747819, 0.94710051, 0.92922344, 0.90681738,\n",
       "        0.89071176, 0.88653306, 0.87486365, 0.12513635, 0.11346694,\n",
       "        0.10928824, 0.07161788, 0.05409745, 0.05265032, 0.05252181,\n",
       "        0.04754893, 0.04481719, 0.0437578 , 0.0423744 , 0.04237335,\n",
       "        0.04183521, 0.04175922, 0.04122003, 0.04086819, 0.04021794,\n",
       "        0.03981484]))"
      ]
     },
     "execution_count": 22,
     "metadata": {},
     "output_type": "execute_result"
    }
   ],
   "source": [
    "# 正确的数据\n",
    "y_true = label_binarize(y_test[names[-4]],classes=(0,1,2)).T[0:-1].T.ravel()\n",
    "print('y_true:\\n', y_true)\n",
    "# 预测的数据 => 获取第一个目标属性的预测值，并将其转换为一维的数组\n",
    "y_predict = forest_y_score[0].ravel()\n",
    "print('y_predict:\\n', y_true)\n",
    "# 计算的值\n",
    "# False Positive Rate——True Positive Rate——\n",
    "metrics.roc_curve(y_true, y_predict)"
   ]
  },
  {
   "cell_type": "code",
   "execution_count": 23,
   "metadata": {
    "scrolled": true
   },
   "outputs": [
    {
     "data": {
      "image/png": "[encoded data removed]",
      "text/plain": [
       "<Figure size 576x432 with 1 Axes>"
      ]
     },
     "metadata": {},
     "output_type": "display_data"
    }
   ],
   "source": [
    "## 8. 画图（ROC图）\n",
    "plt.figure(figsize=(8, 6), facecolor='w')\n",
    "plt.plot(forest_fpr1, forest_tpr1, c='r', lw=2, label=u'Hinselmann目标属性,AUC=%.3f' % auc1)\n",
    "plt.plot(forest_fpr2, forest_tpr2, c='b', lw=2, label=u'Schiller目标属性,AUC=%.3f' % auc2)\n",
    "plt.plot(forest_fpr3, forest_tpr3, c='g', lw=2, label=u'Citology目标属性,AUC=%.3f' % auc3)\n",
    "plt.plot(forest_fpr4, forest_tpr4, c='y', lw=2, label=u'Biopsy目标属性,AUC=%.3f' % auc4)\n",
    "plt.plot((0,1), (0,1), c='#a0a0a0', lw=2, ls='--')\n",
    "plt.xlim(-0.001, 1.001)\n",
    "plt.ylim(-0.001, 1.001)\n",
    "plt.xticks(np.arange(0, 1.1, 0.1))\n",
    "plt.yticks(np.arange(0, 1.1, 0.1))\n",
    "plt.xlabel('False Positive Rate(FPR)', fontsize=16)\n",
    "plt.ylabel('True Positive Rate(TPR)', fontsize=16)\n",
    "plt.grid(b=True, ls=':')\n",
    "plt.legend(loc='lower right', fancybox=True, framealpha=0.8, fontsize=12)\n",
    "plt.title(u'随机森林多目标属性分类ROC曲线', fontsize=18)\n",
    "plt.show()"
   ]
  },
  {
   "cell_type": "code",
   "execution_count": 24,
   "metadata": {
    "scrolled": false
   },
   "outputs": [
    {
     "name": "stdout",
     "output_type": "stream",
     "text": [
      "训练样本数量429，测试样本数量:429\n",
      "1决策树数目，1最大深度，正确率:86.48%\n",
      "1决策树数目，2最大深度，正确率:86.95%\n",
      "1决策树数目，3最大深度，正确率:84.62%\n",
      "1决策树数目，7最大深度，正确率:82.75%\n",
      "1决策树数目，15最大深度，正确率:78.09%\n",
      "50决策树数目，1最大深度，正确率:86.71%\n",
      "50决策树数目，2最大深度，正确率:86.48%\n",
      "50决策树数目，3最大深度，正确率:86.48%\n",
      "50决策树数目，7最大深度，正确率:86.25%\n",
      "50决策树数目，15最大深度，正确率:84.38%\n",
      "100决策树数目，1最大深度，正确率:86.95%\n",
      "100决策树数目，2最大深度，正确率:86.25%\n",
      "100决策树数目，3最大深度，正确率:86.48%\n",
      "100决策树数目，7最大深度，正确率:86.25%\n",
      "100决策树数目，15最大深度，正确率:85.08%\n",
      "500决策树数目，1最大深度，正确率:86.48%\n",
      "500决策树数目，2最大深度，正确率:86.48%\n",
      "500决策树数目，3最大深度，正确率:86.48%\n",
      "500决策树数目，7最大深度，正确率:86.25%\n",
      "500决策树数目，15最大深度，正确率:84.85%\n"
     ]
    }
   ],
   "source": [
    "# 比较不同树数目、树最大深度的情况下随机森林的正确率\n",
    "# 一般情况下，初始的随机森林树个数是100，深度1，如果需要我们再进行优化操作\n",
    "x_train2, x_test2, y_train2, y_test2 = train_test_split(X, Y, test_size=0.5, random_state=0)\n",
    "print (\"训练样本数量%d，测试样本数量:%d\" % (x_train2.shape[0], x_test2.shape[0]))\n",
    "## 比较\n",
    "estimators = [1,50,100,500]  # 决策树的数目\n",
    "depth = [1,2,3,7,15]         # 树的深度\n",
    "err_list = []\n",
    "for es in estimators:\n",
    "    es_list = []\n",
    "    for d in depth:\n",
    "        tf = RandomForestClassifier(n_estimators=es, criterion='gini', max_depth=d, max_features = None, random_state=0)\n",
    "        tf.fit(x_train2, y_train2)\n",
    "        st = tf.score(x_test2, y_test2)\n",
    "        err = 1 - st\n",
    "        es_list.append(err)\n",
    "        print (\"%d决策树数目，%d最大深度，正确率:%.2f%%\" % (es, d, st * 100))\n",
    "    err_list.append(es_list)"
   ]
  },
  {
   "cell_type": "code",
   "execution_count": 25,
   "metadata": {},
   "outputs": [
    {
     "data": {
      "image/png": "[encoded data removed]",
      "text/plain": [
       "<Figure size 432x288 with 1 Axes>"
      ]
     },
     "metadata": {},
     "output_type": "display_data"
    }
   ],
   "source": [
    "## 画图\n",
    "plt.figure(facecolor='w')\n",
    "i = 0\n",
    "colors = ['r','b','g','y']\n",
    "lw = [1,2,4,3]\n",
    "max_err = 0\n",
    "min_err = 100\n",
    "for es,l in zip(estimators,err_list):\n",
    "    plt.plot(depth, l, c=colors[i], lw=lw[i], label=u'树数目:%d' % es)\n",
    "    max_err = max((max(l),max_err))\n",
    "    min_err = min((min(l),min_err))\n",
    "    i += 1\n",
    "plt.xlabel(u'树深度', fontsize=16)\n",
    "plt.ylabel(u'错误率', fontsize=16)\n",
    "plt.legend(loc='upper left', fancybox=True, framealpha=0.8, fontsize=12)\n",
    "plt.grid(True)\n",
    "plt.xlim(min(depth),max(depth))\n",
    "plt.ylim(min_err * 0.99, max_err * 1.01)\n",
    "plt.title(u'随机森林中树数目、深度和错误率的关系图', fontsize=18)\n",
    "plt.show()"
   ]
  },
  {
   "cell_type": "code",
   "execution_count": 46,
   "metadata": {},
   "outputs": [],
   "source": [
    "# 随机森林画图\n",
    "# 方式三：直接生成图片\n",
    "from sklearn import tree\n",
    "from IPython.display import Image  \n",
    "import pydotplus\n",
    "k = 0\n",
    "for clf in forest.estimators_:\n",
    "    dot_data = tree.export_graphviz(clf, out_file=None,  \n",
    "                         filled=True, rounded=True,  \n",
    "                         special_characters=True)\n",
    "    graph = pydotplus.graph_from_dot_data(dot_data)\n",
    "    graph.write_pdf(\"foress_tree_%d.pdf\" % k)\n",
    "    k += 1\n",
    "    if k == 10:\n",
    "        break"
   ]
  }
 ],
 "metadata": {
  "kernelspec": {
   "display_name": "Python 3",
   "language": "python",
   "name": "python3"
  },
  "language_info": {
   "codemirror_mode": {
    "name": "ipython",
    "version": 3
   },
   "file_extension": ".py",
   "mimetype": "text/x-python",
   "name": "python",
   "nbconvert_exporter": "python",
   "pygments_lexer": "ipython3",
   "version": "3.7.3"
  }
 },
 "nbformat": 4,
 "nbformat_minor": 1
}
